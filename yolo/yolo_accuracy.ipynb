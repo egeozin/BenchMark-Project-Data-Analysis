{
 "cells": [
  {
   "cell_type": "code",
   "execution_count": 1,
   "metadata": {
    "collapsed": true
   },
   "outputs": [],
   "source": [
    "import os\n",
    "import json\n",
    "import re"
   ]
  },
  {
   "cell_type": "code",
   "execution_count": 2,
   "metadata": {
    "collapsed": false
   },
   "outputs": [],
   "source": [
    "root_dir = '/Users/egeozin/desktop/civic_data/gehl/vision/yolo/'\n",
    "json_dir = '/Users/egeozin/desktop/civic_data/gehl/vision/yolo/tested.json'\n",
    "\n",
    "myre = re.compile(r\"\\w+(?=.*:)[a-zA-Z]\")\n",
    "\n",
    "full_dir = os.path.join(root_dir, 'test.txt')\n",
    "\n",
    "texts = tuple(open(full_dir, 'r'))\n",
    "\n",
    "texts = [t.replace('\\n', '') for t in texts]\n",
    "\n",
    "labels = []\n",
    "\n",
    "for i in texts:\n",
    "    dicto = {}\n",
    "    with open(i) as myfile:\n",
    "        data = myfile.readlines()\n",
    "        data = [d.replace('\\n', '') for d in data]\n",
    "        dicto[i.replace('labels/', '').replace('.txt','')] = data\n",
    "        labels.append(dicto)\n",
    "        \n",
    "        \n",
    "with open(json_dir) as f_in:\n",
    "    jso = json.load(f_in) "
   ]
  },
  {
   "cell_type": "code",
   "execution_count": 10,
   "metadata": {
    "collapsed": false
   },
   "outputs": [
    {
     "name": "stdout",
     "output_type": "stream",
     "text": [
      "1\n",
      "2\n",
      "3\n",
      "4\n"
     ]
    }
   ],
   "source": [
    "a  = [ 1, 2, 3, 4, 2, 3]\n",
    "\n",
    "b = set(a)\n",
    "\n",
    "for i in b:\n",
    "    print(i)"
   ]
  },
  {
   "cell_type": "code",
   "execution_count": 12,
   "metadata": {
    "collapsed": false
   },
   "outputs": [],
   "source": [
    "# false positives, false negatives, true positives, true negatives\n",
    "# Defined by Classification with Heterogeneous Features (CHF)  [Godbole et al, 2004]\n",
    "# Excluding Intersection over Union accuracy models for bounding boxes\n",
    "# Only multi-label classification.\n",
    "# Precision\n",
    "\n",
    "lookup = {'0':'bench', '1':'sit', '2':'stand', '3':'backrest'}\n",
    "\n",
    "accuracy = 0\n",
    "precision = 0\n",
    "recall = 0\n",
    "\n",
    "n = 200\n",
    "\n",
    "def unite_truth_and_pred(truth, pred):\n",
    "    truth_copy = list(truth)\n",
    "    pred_copy = list(pred)\n",
    "    n_items = len(truth_copy)\n",
    "    n_preds = len(predicted)\n",
    "    n_union = 0\n",
    "    if pred_copy:\n",
    "        #if len(truth) >= len(pred):\n",
    "        #if n_items >= n_preds:\n",
    "        #    count = n_items\n",
    "        #    pred_set = set(pred_copy)\n",
    "        #    for p in pred_set:\n",
    "        #        if not p in truth_copy:\n",
    "        #            count += 1\n",
    "        #    return count\n",
    "        #else:\n",
    "        #    count = n_preds\n",
    "        #    truth_set = set(truth_copy)\n",
    "        #    for t in truth_set:\n",
    "        #        if not t in pred_copy:\n",
    "        #            count += 1\n",
    "        #    return count\n",
    "        if n_items >= n_preds:\n",
    "            count = 0\n",
    "            for p in pred_copy:\n",
    "                if p in truth_copy:\n",
    "                    count +=1\n",
    "                    truth_copy.remove(p)\n",
    "            count += len(truth_copy)\n",
    "            return count\n",
    "        else:\n",
    "            count = 0\n",
    "            for t in truth_copy:\n",
    "                if t in pred_copy:\n",
    "                    count += 1\n",
    "                    pred_copy.remove(t)\n",
    "            count += len(pred_copy)\n",
    "            return count\n",
    "    else:\n",
    "        return 0\n",
    "                         \n",
    "for i in labels:\n",
    "    truth = [lookup[t] for t in [k.split(\" \", 1)[0] for k in i.items()[0][1]] if not t == '-1'] # [0][1][0].split(\" \", 1)[0]\n",
    "    n_items = len(truth)\n",
    "    predicted = myre.findall(jso[i.items()[0][0]])\n",
    "    n_preds = len(predicted)\n",
    "    n_union = unite_truth_and_pred(truth, predicted)\n",
    "    if predicted:\n",
    "        this_score = 0\n",
    "        count = 0\n",
    "        for p in predicted:\n",
    "            if count < n_items:\n",
    "                count += 1\n",
    "                if p in truth:\n",
    "                    this_score += 1\n",
    "                    truth.remove(p)\n",
    "        \n",
    "        accuracy += this_score/float(n_union)\n",
    "        precision += this_score/float(n_items)\n",
    "        recall += this_score/float(n_preds)"
   ]
  },
  {
   "cell_type": "code",
   "execution_count": 13,
   "metadata": {
    "collapsed": false
   },
   "outputs": [
    {
     "name": "stdout",
     "output_type": "stream",
     "text": [
      "0.663598665224\n",
      "0.769722222222\n",
      "0.788320887446\n"
     ]
    }
   ],
   "source": [
    "# The proportion of predicted correct labels to the total number of labels(predicted or actual), \n",
    "# averaged over all instances\n",
    "\n",
    "# 0.663598665224\n",
    "\n",
    "accuracy = accuracy/n\n",
    "print accuracy\n",
    "\n",
    "# The proportion of predicted correct labels to the total number of actual labels, \n",
    "# averaged over all instances\n",
    "\n",
    "# 0.769722222222\n",
    "\n",
    "precision = precision/n\n",
    "print precision\n",
    "\n",
    "# The proportion of predicted correct labels to the total number of predicted labels, \n",
    "# averaged over all instances\n",
    "\n",
    "# 0.788320887446\n",
    "\n",
    "recall = recall/n\n",
    "print recall"
   ]
  },
  {
   "cell_type": "code",
   "execution_count": null,
   "metadata": {
    "collapsed": true
   },
   "outputs": [],
   "source": []
  }
 ],
 "metadata": {
  "kernelspec": {
   "display_name": "Python 2",
   "language": "python",
   "name": "python2"
  },
  "language_info": {
   "codemirror_mode": {
    "name": "ipython",
    "version": 2
   },
   "file_extension": ".py",
   "mimetype": "text/x-python",
   "name": "python",
   "nbconvert_exporter": "python",
   "pygments_lexer": "ipython2",
   "version": "2.7.11"
  }
 },
 "nbformat": 4,
 "nbformat_minor": 2
}
